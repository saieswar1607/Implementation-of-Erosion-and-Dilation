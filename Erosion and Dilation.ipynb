{
 "cells": [
  {
   "cell_type": "code",
   "execution_count": null,
   "id": "51d4d855-7086-44ac-8b85-45611a08ccfe",
   "metadata": {},
   "outputs": [],
   "source": [
    "import cv2\n",
    "import numpy as np\n",
    "import matplotlib.pyplot as plt\n",
    "\n",
    "image= np.zeros((100,400),dtype='uint8')\n",
    "font = cv2.FONT_HERSHEY_SIMPLEX\n",
    "cv2.putText(image,'ESWAR',(5,70), font,2,(255),5,cv2.LINE_AA)\n",
    "cv2.imshow(\"Name\",image)\n",
    "kernel1 = cv2.getStructuringElement(cv2.MORPH_CROSS,(7,7))\n",
    "erodeImage = cv2.erode(image,kernel1)\n",
    "dilationImage = cv2.dilate(image,kernel1)\n",
    "cv2.imshow(\"Erode Image\",erodeImage)\n",
    "cv2.imshow(\"Dilated Image\",dilationImage)\n",
    "cv2.waitKey(0)\n",
    "cv2.DestroyAllWindows"
   ]
  },
  {
   "cell_type": "code",
   "execution_count": null,
   "id": "0a42c068-4e86-4a1a-a881-27c0f5c9e769",
   "metadata": {},
   "outputs": [],
   "source": []
  }
 ],
 "metadata": {
  "kernelspec": {
   "display_name": "Python 3",
   "language": "python",
   "name": "python3"
  },
  "language_info": {
   "codemirror_mode": {
    "name": "ipython",
    "version": 3
   },
   "file_extension": ".py",
   "mimetype": "text/x-python",
   "name": "python",
   "nbconvert_exporter": "python",
   "pygments_lexer": "ipython3",
   "version": "3.8.8"
  }
 },
 "nbformat": 4,
 "nbformat_minor": 5
}
